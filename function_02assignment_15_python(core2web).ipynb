{
 "cells": [
  {
   "cell_type": "code",
   "execution_count": 1,
   "id": "bab03ec9",
   "metadata": {},
   "outputs": [
    {
     "name": "stdout",
     "output_type": "stream",
     "text": [
      "in fun\n"
     ]
    }
   ],
   "source": [
    "# example :\n",
    "\n",
    "def fun():\n",
    "    print(\"in fun\")\n",
    "\n",
    "if __name__ == \"__main__\" :\n",
    "    fun()"
   ]
  },
  {
   "cell_type": "code",
   "execution_count": 2,
   "id": "ab8740b7",
   "metadata": {},
   "outputs": [
    {
     "name": "stdout",
     "output_type": "stream",
     "text": [
      "21\n"
     ]
    }
   ],
   "source": [
    "# code 1:\n",
    "\n",
    "def add(x):\n",
    "    def inner(y):\n",
    "        return x*y\n",
    "    return inner\n",
    "if __name__==\"__main__\":\n",
    "    add_3=add(3)\n",
    "    result=add_3(7)\n",
    "    print(result)"
   ]
  },
  {
   "cell_type": "code",
   "execution_count": 3,
   "id": "c06e87bf",
   "metadata": {},
   "outputs": [
    {
     "name": "stdout",
     "output_type": "stream",
     "text": [
      "Greeting from the inner function!\n"
     ]
    }
   ],
   "source": [
    "# code 2:\n",
    "\n",
    "def outer():\n",
    "    def inner():\n",
    "        return \"Greeting from the inner function!\"\n",
    "    return inner()\n",
    "\n",
    "if __name__==\"__main__\" :\n",
    "    result = outer()\n",
    "    print(result)"
   ]
  },
  {
   "cell_type": "code",
   "execution_count": 4,
   "id": "63415c71",
   "metadata": {},
   "outputs": [
    {
     "name": "stdout",
     "output_type": "stream",
     "text": [
      "This is the inner function.\n"
     ]
    }
   ],
   "source": [
    "# code 3:\n",
    "\n",
    "def outer():\n",
    "    def inner():\n",
    "         return \"This is the inner function.\"\n",
    "    return inner\n",
    "if __name__==\"__main__\":\n",
    "    retObj = outer()\n",
    "    retInner = retObj()\n",
    "    \n",
    "    print(retInner)"
   ]
  },
  {
   "cell_type": "code",
   "execution_count": 5,
   "id": "2fd61bdc",
   "metadata": {},
   "outputs": [
    {
     "name": "stdout",
     "output_type": "stream",
     "text": [
      "<function outer at 0x00000132A5E99480>\n"
     ]
    }
   ],
   "source": [
    "# code 4:\n",
    "\n",
    "def outer():\n",
    "    def inner():\n",
    "        return outer\n",
    "    return inner\n",
    "\n",
    "if __name__ == \"__main__\":\n",
    "    retObj = outer()\n",
    "    retInner = retObj()\n",
    "    print(retInner)\n",
    "    "
   ]
  },
  {
   "cell_type": "code",
   "execution_count": 6,
   "id": "77f3e214",
   "metadata": {},
   "outputs": [
    {
     "name": "stdout",
     "output_type": "stream",
     "text": [
      "<function outer at 0x00000132A5E996C0>\n",
      "<function outer.<locals>.inner at 0x00000132A5E99750>\n"
     ]
    }
   ],
   "source": [
    "# code 5:\n",
    "\n",
    "def outer():\n",
    "    def inner(outer):\n",
    "        print(outer)\n",
    "        return inner\n",
    "    return inner(outer)\n",
    "if __name__==\"__main__\":\n",
    "    retObj = outer()\n",
    "    print(retObj)"
   ]
  },
  {
   "cell_type": "code",
   "execution_count": 7,
   "id": "446d468b",
   "metadata": {},
   "outputs": [
    {
     "name": "stdout",
     "output_type": "stream",
     "text": [
      "In inner1\n",
      "In inner2\n",
      "6\n",
      "<function outer.<locals>.inner2 at 0x00000132A5E99900>\n"
     ]
    }
   ],
   "source": [
    "# code 6:\n",
    "\n",
    "def outer():\n",
    "    def inner1(a,b):\n",
    "        print(\"In inner1\")\n",
    "        return a-b\n",
    "    \n",
    "    def inner2(obj):\n",
    "        print(\"In inner2\")\n",
    "        print(obj)\n",
    "        return inner2\n",
    "    \n",
    "    retInner1 = inner1(10,4)\n",
    "    retInner2 = inner2(retInner1)\n",
    "    return retInner2\n",
    "if __name__ == \"__main__\":\n",
    "    retObj = outer()\n",
    "    print(retObj)"
   ]
  },
  {
   "cell_type": "code",
   "execution_count": 8,
   "id": "b544af2c",
   "metadata": {},
   "outputs": [
    {
     "name": "stdout",
     "output_type": "stream",
     "text": [
      "Hello,core2web!\n"
     ]
    }
   ],
   "source": [
    "# code 7:\n",
    "\n",
    "def outer():\n",
    "    def inner():\n",
    "        return \"Hello,core2web!\"\n",
    "        \n",
    "    return inner\n",
    "    print(\"In outer function\")\n",
    "    \n",
    "if __name__ == \"__main__\":\n",
    "    result = outer()()\n",
    "    print(result)"
   ]
  },
  {
   "cell_type": "code",
   "execution_count": 9,
   "id": "192a9062",
   "metadata": {},
   "outputs": [
    {
     "name": "stdout",
     "output_type": "stream",
     "text": [
      " I am the outer function.\n"
     ]
    }
   ],
   "source": [
    "# code 8:\n",
    "\n",
    "def outer():\n",
    "    message = \" I am the outer function.\"\n",
    "    \n",
    "    def inner():\n",
    "        return message\n",
    "    return inner\n",
    "\n",
    "if __name__ == \"__main__\":\n",
    "    inner_function = outer()\n",
    "    result = inner_function()\n",
    "    print(result)"
   ]
  },
  {
   "cell_type": "code",
   "execution_count": 10,
   "id": "667bf88d",
   "metadata": {},
   "outputs": [
    {
     "name": "stdout",
     "output_type": "stream",
     "text": [
      "1\n",
      "2\n"
     ]
    }
   ],
   "source": [
    "# code 9:\n",
    "\n",
    "def outer():\n",
    "    count = 0\n",
    "    \n",
    "    def inner():\n",
    "        nonlocal count\n",
    "        count += 1\n",
    "        return count\n",
    "    return inner\n",
    "\n",
    "if __name__ == \"__main__\":\n",
    "    counter = outer()\n",
    "    print(counter())\n",
    "    print(counter())\n",
    "   "
   ]
  },
  {
   "cell_type": "code",
   "execution_count": 11,
   "id": "37311c0e",
   "metadata": {},
   "outputs": [
    {
     "name": "stdout",
     "output_type": "stream",
     "text": [
      "This is true.\n",
      "This is false.\n"
     ]
    }
   ],
   "source": [
    "# code 10:\n",
    "\n",
    "def outer(flag):\n",
    "    def inner():\n",
    "        return \"This is true.\" if flag else \"This is false.\"\n",
    "    \n",
    "    return inner\n",
    "\n",
    "if __name__ == \"__main__\":\n",
    "    true_function = outer(True)\n",
    "    false_function = outer(False)\n",
    "    \n",
    "    print(true_function())\n",
    "    print(false_function())"
   ]
  },
  {
   "cell_type": "code",
   "execution_count": null,
   "id": "ef553b51",
   "metadata": {},
   "outputs": [],
   "source": []
  }
 ],
 "metadata": {
  "kernelspec": {
   "display_name": "Python 3 (ipykernel)",
   "language": "python",
   "name": "python3"
  },
  "language_info": {
   "codemirror_mode": {
    "name": "ipython",
    "version": 3
   },
   "file_extension": ".py",
   "mimetype": "text/x-python",
   "name": "python",
   "nbconvert_exporter": "python",
   "pygments_lexer": "ipython3",
   "version": "3.10.9"
  }
 },
 "nbformat": 4,
 "nbformat_minor": 5
}

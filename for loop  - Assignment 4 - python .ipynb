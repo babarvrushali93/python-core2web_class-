{
 "cells": [
  {
   "cell_type": "markdown",
   "id": "1d35f136",
   "metadata": {},
   "source": [
    "# program1:\n",
    "WAP to print numbers from a given range.\n",
    "\n",
    "\n",
    "\n",
    "\n",
    "input:\n",
    "\n",
    "\n",
    "    Start = 100\n",
    "    End = 110\n",
    "    \n",
    "    \n",
    "output:\n",
    "\n",
    "\n",
    "    100 101 103 104 105 106 107 108 109\n",
    "    \n",
    "    "
   ]
  },
  {
   "cell_type": "code",
   "execution_count": 2,
   "id": "a7c3cf81",
   "metadata": {},
   "outputs": [
    {
     "name": "stdout",
     "output_type": "stream",
     "text": [
      "Enter start of range: 100\n",
      "Enter end of range: 110\n",
      "100 101 102 103 104 105 106 107 108 109 "
     ]
    }
   ],
   "source": [
    "start= int(input(\"Enter start of range: \"))\n",
    "end = int(input(\"Enter end of range: \"))\n",
    "\n",
    "for i in range(start,end):\n",
    "    print(i,end = \" \")"
   ]
  },
  {
   "cell_type": "markdown",
   "id": "494c62f0",
   "metadata": {},
   "source": [
    "# program2:\n",
    "write a program to print all even numbers  from a given range.\n",
    "\n",
    "\n",
    "input:\n",
    "\n",
    "\n",
    "    Start=10\n",
    "    End = 20\n",
    "    \n",
    "    \n",
    "output:\n",
    "\n",
    "10 12 14 16 18    "
   ]
  },
  {
   "cell_type": "code",
   "execution_count": 1,
   "id": "018ade12",
   "metadata": {},
   "outputs": [
    {
     "name": "stdout",
     "output_type": "stream",
     "text": [
      "Enter start of range: 10\n",
      "Enter end of range: 20\n",
      "10 12 14 16 18 "
     ]
    }
   ],
   "source": [
    "start= int(input(\"Enter start of range: \"))\n",
    "end = int(input(\"Enter end of range: \"))\n",
    "\n",
    "\n",
    "for i in range(start,end):\n",
    "    if (i % 2==0):\n",
    "        print(i,end = \" \")"
   ]
  },
  {
   "cell_type": "markdown",
   "id": "31e4b76e",
   "metadata": {},
   "source": [
    "# program3:\n",
    "WAP to print the sum of all numbers from a given range.\n",
    "\n",
    "\n",
    "input:\n",
    "    \n",
    "    \n",
    "    start:1\n",
    "    End:10\n",
    "        \n",
    "output: \n",
    "\n",
    "    \n",
    "    45"
   ]
  },
  {
   "cell_type": "code",
   "execution_count": 2,
   "id": "a088145f",
   "metadata": {},
   "outputs": [
    {
     "name": "stdout",
     "output_type": "stream",
     "text": [
      "Enter start of range: 1\n",
      "Enter end of range: 10\n",
      "The sum of all numbers from a given range: 45\n"
     ]
    }
   ],
   "source": [
    "start= int(input(\"Enter start of range: \"))\n",
    "end = int(input(\"Enter end of range: \"))\n",
    "\n",
    "sum =0 \n",
    "for i in range(start,end):\n",
    "    sum += i\n",
    "print(\"The sum of all numbers from a given range:\",sum)"
   ]
  },
  {
   "cell_type": "markdown",
   "id": "bff23554",
   "metadata": {},
   "source": [
    "# Program 4:\n",
    "WAP to print all the character values of the given ASCII value range from the\n",
    "user.\n",
    "\n",
    "\n",
    "Input :\n",
    "    \n",
    "    Enter the start of range : 1\n",
    "    Enter end of range: -2\n",
    "        \n",
    "Output :\n",
    "    \n",
    "    Wrong input\n",
    "    \n",
    "Input :\n",
    "    \n",
    "    Enter start of range : 65\n",
    "    Enter end of range : 67\n",
    "        \n",
    "Output :\n",
    "    \n",
    "    The character of ASCII value 65 is A.\n",
    "    The character of ASCII value 66 is B.\n",
    "    The character of ASCII value 67 is C.\n",
    "    .\n",
    "    .\n",
    "    .\n",
    "    The character of ASCII value 89 is Y."
   ]
  },
  {
   "cell_type": "code",
   "execution_count": 4,
   "id": "004ef6c5",
   "metadata": {},
   "outputs": [
    {
     "name": "stdout",
     "output_type": "stream",
     "text": [
      "Enter the start of range: 1\n",
      "Enter end of range: -2\n",
      "Wrong input\n"
     ]
    }
   ],
   "source": [
    "start_range = int(input(\"Enter the start of range: \"))\n",
    "end_range = int(input(\"Enter end of range: \"))\n",
    "\n",
    "if start_range > end_range:\n",
    "    print(\"Wrong input\")\n",
    "else:\n",
    "    print(\"Output:\")\n",
    "    for ascii_value in range(start_range, end_range + 1):\n",
    "        print(f\"The character of ASCII value {ascii_value} is {chr(ascii_value)}.\")\n"
   ]
  },
  {
   "cell_type": "code",
   "execution_count": 5,
   "id": "dd06f65b",
   "metadata": {},
   "outputs": [
    {
     "name": "stdout",
     "output_type": "stream",
     "text": [
      "Enter the start of range: 65\n",
      "Enter end of range: 67\n",
      "Output:\n",
      "The character of ASCII value 65 is A.\n",
      "The character of ASCII value 66 is B.\n",
      "The character of ASCII value 67 is C.\n"
     ]
    }
   ],
   "source": [
    "start_range = int(input(\"Enter the start of range: \"))\n",
    "end_range = int(input(\"Enter end of range: \"))\n",
    "\n",
    "if start_range > end_range:\n",
    "    print(\"Wrong input\")\n",
    "else:\n",
    "    print(\"Output:\")\n",
    "    for ascii_value in range(start_range, end_range + 1):\n",
    "        print(f\"The character of ASCII value {ascii_value} is {chr(ascii_value)}.\")\n"
   ]
  },
  {
   "cell_type": "markdown",
   "id": "994dc1ce",
   "metadata": {},
   "source": [
    "# Program 5:\n",
    "WAP to print the number divisible by 7 but not divisible by 3 between 1 to 100\n",
    "\n",
    "Input :\n",
    "    \n",
    "Enter start of range - 1\n",
    "Enter end of range - 100\n",
    "\n",
    "Output :\n",
    "    \n",
    "7 14 28 35 49 56 70 77 91 98"
   ]
  },
  {
   "cell_type": "code",
   "execution_count": 3,
   "id": "e9a3e09f",
   "metadata": {},
   "outputs": [
    {
     "name": "stdout",
     "output_type": "stream",
     "text": [
      "Enter the start of range:1\n",
      "Enter the end of range:100\n",
      "7 14 28 35 49 56 70 77 91 98 "
     ]
    }
   ],
   "source": [
    "start = int(input(\"Enter the start of range:\"))\n",
    "end = int(input(\"Enter the end of range:\"))\n",
    "\n",
    "for num in range(start,end):\n",
    "    if (num % 7 == 0) and (num % 3 !=0):\n",
    "        print(num,end = \" \")"
   ]
  },
  {
   "cell_type": "markdown",
   "id": "7ffb7da9",
   "metadata": {},
   "source": [
    "# Program 6:\n",
    "WAP to print all the ASCII values from a given character range.\n",
    "\n",
    "\n",
    "Input :\n",
    "    \n",
    "    \n",
    "Enter the start of range : A\n",
    "Enter end of range: Z\n",
    "    \n",
    "    \n",
    "Output :\n",
    "    \n",
    "    \n",
    "ASCII value of A is 65\n",
    "\n",
    "ASCII value of B is 66\n",
    "\n",
    "ASCII value of C is 67\n",
    ".\n",
    ".\n",
    ".\n",
    "ASCII value of Y is 89"
   ]
  },
  {
   "cell_type": "code",
   "execution_count": 4,
   "id": "2a69886d",
   "metadata": {},
   "outputs": [
    {
     "name": "stdout",
     "output_type": "stream",
     "text": [
      "Enter the start of range: A\n",
      "Enter the end of range: z\n",
      "Output:\n",
      "ASCII value of A is 65\n",
      "ASCII value of B is 66\n",
      "ASCII value of C is 67\n",
      "ASCII value of D is 68\n",
      "ASCII value of E is 69\n",
      "ASCII value of F is 70\n",
      "ASCII value of G is 71\n",
      "ASCII value of H is 72\n",
      "ASCII value of I is 73\n",
      "ASCII value of J is 74\n",
      "ASCII value of K is 75\n",
      "ASCII value of L is 76\n",
      "ASCII value of M is 77\n",
      "ASCII value of N is 78\n",
      "ASCII value of O is 79\n",
      "ASCII value of P is 80\n",
      "ASCII value of Q is 81\n",
      "ASCII value of R is 82\n",
      "ASCII value of S is 83\n",
      "ASCII value of T is 84\n",
      "ASCII value of U is 85\n",
      "ASCII value of V is 86\n",
      "ASCII value of W is 87\n",
      "ASCII value of X is 88\n",
      "ASCII value of Y is 89\n",
      "ASCII value of Z is 90\n",
      "ASCII value of [ is 91\n",
      "ASCII value of \\ is 92\n",
      "ASCII value of ] is 93\n",
      "ASCII value of ^ is 94\n",
      "ASCII value of _ is 95\n",
      "ASCII value of ` is 96\n",
      "ASCII value of a is 97\n",
      "ASCII value of b is 98\n",
      "ASCII value of c is 99\n",
      "ASCII value of d is 100\n",
      "ASCII value of e is 101\n",
      "ASCII value of f is 102\n",
      "ASCII value of g is 103\n",
      "ASCII value of h is 104\n",
      "ASCII value of i is 105\n",
      "ASCII value of j is 106\n",
      "ASCII value of k is 107\n",
      "ASCII value of l is 108\n",
      "ASCII value of m is 109\n",
      "ASCII value of n is 110\n",
      "ASCII value of o is 111\n",
      "ASCII value of p is 112\n",
      "ASCII value of q is 113\n",
      "ASCII value of r is 114\n",
      "ASCII value of s is 115\n",
      "ASCII value of t is 116\n",
      "ASCII value of u is 117\n",
      "ASCII value of v is 118\n",
      "ASCII value of w is 119\n",
      "ASCII value of x is 120\n",
      "ASCII value of y is 121\n",
      "ASCII value of z is 122\n"
     ]
    }
   ],
   "source": [
    "start_char = input(\"Enter the start of range: \")\n",
    "end_char = input(\"Enter the end of range: \")\n",
    "\n",
    "start_ascii = ord(start_char)\n",
    "end_ascii = ord(end_char)\n",
    "\n",
    "print(\"Output:\")\n",
    "for ascii_value in range(start_ascii, end_ascii + 1):\n",
    "    print(f\"ASCII value of {chr(ascii_value)} is {ascii_value}\")\n"
   ]
  },
  {
   "cell_type": "markdown",
   "id": "f315b42d",
   "metadata": {},
   "source": [
    "# program7\n",
    "WAP that prints all positive numbers from a given range.\n",
    "\n",
    "input:\n",
    "    \n",
    "    start :-7\n",
    "    end:8\n",
    "        \n",
    "output:\n",
    "    \n",
    "    1 2 3 4 5 6 7\n",
    "        "
   ]
  },
  {
   "cell_type": "code",
   "execution_count": 7,
   "id": "0f0c4aec",
   "metadata": {},
   "outputs": [
    {
     "name": "stdout",
     "output_type": "stream",
     "text": [
      "Enter the start of range:-7\n",
      "Enter the end of range:8\n",
      "1 2 3 4 5 6 7 "
     ]
    }
   ],
   "source": [
    "start = int(input(\"Enter the start of range:\"))\n",
    "end = int(input(\"Enter the end of range:\"))\n",
    "\n",
    "for i in range(start,end):\n",
    "     if i > 0:\n",
    "        print(i,end = \" \")\n"
   ]
  },
  {
   "cell_type": "markdown",
   "id": "05124525",
   "metadata": {},
   "source": [
    "# Program 8:\n",
    "WAP to prints numbers which are divisible by 3 and 5 both in a given range.\n",
    "\n",
    "Input:\n",
    "\n",
    "    Start:15\n",
    "    End: 50\n",
    "Output:\n",
    "\n",
    "    15 30 45"
   ]
  },
  {
   "cell_type": "code",
   "execution_count": 8,
   "id": "61ace279",
   "metadata": {},
   "outputs": [
    {
     "name": "stdout",
     "output_type": "stream",
     "text": [
      "Enter the start of range:15\n",
      "Enter the end of range:50\n",
      "15 30 45 "
     ]
    }
   ],
   "source": [
    "start = int(input(\"Enter the start of range:\"))\n",
    "end = int(input(\"Enter the end of range:\"))\n",
    "\n",
    "for i in range(start,end):\n",
    "    if (i % 3 == 0) and (i % 5 ==0):\n",
    "        print(i,end = \" \")"
   ]
  },
  {
   "cell_type": "markdown",
   "id": "58d3d709",
   "metadata": {},
   "source": [
    "# Program 9:\n",
    "WAP to print the count of all negative numbers from a given range\n",
    "\n",
    "Input:\n",
    "    \n",
    "    Start: -15\n",
    "    End: 50\n",
    "        \n",
    "Output:\n",
    "    \n",
    "    15"
   ]
  },
  {
   "cell_type": "code",
   "execution_count": 4,
   "id": "0f6a3e06",
   "metadata": {},
   "outputs": [
    {
     "name": "stdout",
     "output_type": "stream",
     "text": [
      "Enter the start of range:-15\n",
      "Enter the end of range:50\n",
      "Count of negative numbers: 15\n"
     ]
    }
   ],
   "source": [
    "start = int(input(\"Enter the start of range:\"))\n",
    "end = int(input(\"Enter the end of range:\"))\n",
    "\n",
    "count = 0\n",
    "for i in range(start,end):\n",
    "    if i < 0:  \n",
    "        count += 1\n",
    "print(\"Count of negative numbers:\",count)        "
   ]
  },
  {
   "cell_type": "markdown",
   "id": "703ff5de",
   "metadata": {},
   "source": [
    "# Program 10:\n",
    "WAP program to calculate and print the product of the count of odd\n",
    "numbers within a given range.\n",
    "\n",
    "Input:\n",
    "    \n",
    "    Start: 1\n",
    "    End: 11\n",
    "\n",
    "Output:\n",
    "    \n",
    "    3125"
   ]
  },
  {
   "cell_type": "code",
   "execution_count": 8,
   "id": "2b2c4398",
   "metadata": {},
   "outputs": [
    {
     "name": "stdout",
     "output_type": "stream",
     "text": [
      "Start: 1\n",
      "End: 10\n",
      "Output:\n",
      "3125\n"
     ]
    }
   ],
   "source": [
    "start = int(input(\"Start: \"))\n",
    "end = int(input(\"End: \"))\n",
    "\n",
    "odd_count = sum(1 for i in range(start, end+1) if i % 2 != 0)\n",
    "\n",
    "product = 1\n",
    "for _ in range(odd_count):\n",
    "    product *= odd_count\n",
    "\n",
    "print(\"Output:\")\n",
    "print(product)\n"
   ]
  },
  {
   "cell_type": "code",
   "execution_count": null,
   "id": "006d483a",
   "metadata": {},
   "outputs": [],
   "source": []
  }
 ],
 "metadata": {
  "kernelspec": {
   "display_name": "Python 3 (ipykernel)",
   "language": "python",
   "name": "python3"
  },
  "language_info": {
   "codemirror_mode": {
    "name": "ipython",
    "version": 3
   },
   "file_extension": ".py",
   "mimetype": "text/x-python",
   "name": "python",
   "nbconvert_exporter": "python",
   "pygments_lexer": "ipython3",
   "version": "3.10.9"
  }
 },
 "nbformat": 4,
 "nbformat_minor": 5
}

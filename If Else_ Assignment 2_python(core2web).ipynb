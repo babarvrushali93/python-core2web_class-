{
 "cells": [
  {
   "cell_type": "markdown",
   "id": "d784231a",
   "metadata": {},
   "source": [
    "1. WAP to check numbers are divisible by 4 and 5 print those numbers\n",
    "input1 : num1=20\n",
    "output:20 is divisible by 4 and 5\n",
    "input1 : num1=15\n",
    "output:15 is not divisible by 4 and 5       "
   ]
  },
  {
   "cell_type": "code",
   "execution_count": 4,
   "id": "0adf9d2c",
   "metadata": {},
   "outputs": [
    {
     "name": "stdout",
     "output_type": "stream",
     "text": [
      "Enter the num1: 20\n",
      "20 is divisible by 4 and 5\n"
     ]
    }
   ],
   "source": [
    "num1 = int(input(\"Enter the num1: \"))\n",
    "\n",
    "if(num1 % 4 == 0)and(num1 % 5 == 0):\n",
    "    print(\"%d is divisible by 4 and 5\" %num1)\n",
    "else:\n",
    "    print(\"%d is not divisible by 4 and 5\" %num1)"
   ]
  },
  {
   "cell_type": "markdown",
   "id": "fbe851de",
   "metadata": {},
   "source": [
    "2. WAP to determine entered angles define a right-angled triangle.take three values of angle form the user.\n",
    "input1:angel1 = 90\n",
    "input2:angel2 = 90\n",
    "input3:angel3 = 90\n",
    "output: It is not a right-angle triangle\n",
    "    \n",
    "input1:angel1 = 90\n",
    "input2:angel2 = 60\n",
    "input3:angel3 = 30\n",
    "output: It is a right-angle triangle    "
   ]
  },
  {
   "cell_type": "code",
   "execution_count": 3,
   "id": "1c6f9200",
   "metadata": {},
   "outputs": [
    {
     "name": "stdout",
     "output_type": "stream",
     "text": [
      "Enter the values of angel1: 90\n",
      "Enter the values of angel2: 30\n",
      "Enter the values of angel3: 60\n",
      "It is a right-angle triangle\n"
     ]
    }
   ],
   "source": [
    "angel1 = int(input(\"Enter the values of angel1: \"))\n",
    "angel2 = int(input(\"Enter the values of angel2: \"))\n",
    "angel3 = int(input(\"Enter the values of angel3: \"))\n",
    "\n",
    "\n",
    "if(angel1+angel2+angel3 == 180):\n",
    "    print(\"It is a right-angle triangle\")\n",
    "else:\n",
    "    print(\"It is not a right-angle triangle\")"
   ]
  },
  {
   "cell_type": "markdown",
   "id": "4e799263",
   "metadata": {},
   "source": [
    "3. Take two numbers from users and print the sum of those numbers if the sum is even.\n",
    "\n",
    "input1 :num1 = 20\n",
    "input2 :num2 = 20   \n",
    "output: 40 is Even \n",
    "    \n",
    "input1 :num1 = 10\n",
    "input2 :num2 = 25  \n",
    "output:No Output   \n",
    "    "
   ]
  },
  {
   "cell_type": "code",
   "execution_count": 19,
   "id": "29e38208",
   "metadata": {},
   "outputs": [
    {
     "name": "stdout",
     "output_type": "stream",
     "text": [
      "Enter the num1: 10\n",
      "Enter the num2: 25\n",
      "No Output\n"
     ]
    }
   ],
   "source": [
    "num1 = int(input(\"Enter the num1: \"))\n",
    "num2 = int(input(\"Enter the num2: \"))\n",
    "\n",
    "sum = num1 + num2\n",
    "\n",
    "if(sum % 2 == 0):\n",
    "    print(sum,\"is even\")\n",
    "else:\n",
    "    print(\"No Output\")"
   ]
  },
  {
   "cell_type": "markdown",
   "id": "974ca5b3",
   "metadata": {},
   "source": [
    "4. Take a number from the user and check whether it is present in the list.if it's in the list print \"Available.\"\n",
    "\n",
    "list1 = [10,20,30,40,50]\n",
    "\n",
    "input :num:10\n",
    "output: available\n",
    "    \n",
    "input :num:15\n",
    "output: No output\n",
    "        "
   ]
  },
  {
   "cell_type": "code",
   "execution_count": 33,
   "id": "a8271bfa",
   "metadata": {},
   "outputs": [
    {
     "name": "stdout",
     "output_type": "stream",
     "text": [
      "Enter the num: 55\n",
      "no Output\n"
     ]
    }
   ],
   "source": [
    "num = int(input(\"Enter the num: \"))\n",
    "\n",
    "list1 = [10,20,30,40,50]\n",
    "\n",
    "if num in list1:\n",
    "    print(\"Available\")\n",
    "else:\n",
    "    print(\"no Output\")\n",
    "    "
   ]
  },
  {
   "cell_type": "markdown",
   "id": "924c67cd",
   "metadata": {},
   "source": [
    " 5. print the \"core2web\" string a number a times entered by the user if the\n",
    "    number is even.\n",
    "    \n",
    "    input: num = 2\n",
    "    output:core2web\n",
    "           core2web\n",
    "     \n",
    "    input: num = 5\n",
    "    output:No Output      "
   ]
  },
  {
   "cell_type": "code",
   "execution_count": 37,
   "id": "64ea06d1",
   "metadata": {},
   "outputs": [
    {
     "name": "stdout",
     "output_type": "stream",
     "text": [
      "Enter the number: 2\n",
      "Core2webCore2web\n"
     ]
    }
   ],
   "source": [
    "num = int(input(\"Enter the number: \"))\n",
    "\n",
    "if(num % 2 == 0) :\n",
    "    print(num * \"Core2web\")\n",
    "else:\n",
    "    print(\"No Output\")"
   ]
  },
  {
   "cell_type": "markdown",
   "id": "7d579f6e",
   "metadata": {},
   "source": [
    "6. write a program that checks if a given number is odd using thr \"if\" statements.\n",
    "\n",
    "    input: num = 13\n",
    "    output:odd\n",
    "    \n",
    "   input :num = 12\n",
    "   output:No Output    "
   ]
  },
  {
   "cell_type": "code",
   "execution_count": 43,
   "id": "de507e60",
   "metadata": {},
   "outputs": [
    {
     "name": "stdout",
     "output_type": "stream",
     "text": [
      "Enter the number:13\n",
      "13 is Odd number\n"
     ]
    }
   ],
   "source": [
    "num = int(input(\"Enter the number:\"))\n",
    "\n",
    "if(num % 2 != 0):\n",
    "    print(\"%d is Odd number\" %num)\n",
    "else:\n",
    "    print(\" No output\" )"
   ]
  },
  {
   "cell_type": "markdown",
   "id": "5068a90e",
   "metadata": {},
   "source": [
    "7. take two numbers form the user ,check if both are odd and then print the sum of the numbers.\n",
    "\n",
    "input : num1 = 10\n",
    "input : num2 = 11\n",
    "output : 21\n",
    "    \n",
    "input : num1 = 10\n",
    "input : num2 = 6\n",
    "output : No Output  "
   ]
  },
  {
   "cell_type": "code",
   "execution_count": 16,
   "id": "33e0f64c",
   "metadata": {},
   "outputs": [
    {
     "name": "stdout",
     "output_type": "stream",
     "text": [
      "Enter the num1: 15\n",
      "Enter the num2: 17\n",
      "both number are odd\n",
      "sum of 15 and  17 is: 32\n"
     ]
    }
   ],
   "source": [
    "num1 = int(input(\"Enter the num1: \"))\n",
    "num2 = int(input(\"Enter the num2: \"))\n",
    "\n",
    "\n",
    "if(num1 % 2 != 0) and (num2 % 2 != 0):\n",
    "    print(\"both number are odd\")\n",
    "    print(\"sum of\",num1 ,\"and \",num2 , \"is:\", num1 +num2)\n",
    "else:\n",
    "    print(\"No Output\")\n"
   ]
  },
  {
   "cell_type": "markdown",
   "id": "79ec9098",
   "metadata": {},
   "source": [
    "8. take single character from user check if the ascii value of character is Even the print character.\n",
    "\n",
    "    input: char1 = 'B'\n",
    "    output : B\n",
    " \n",
    "    input: char1 = 'C'\n",
    "    output : No Output\n",
    "    "
   ]
  },
  {
   "cell_type": "code",
   "execution_count": 2,
   "id": "df7d6aef",
   "metadata": {},
   "outputs": [
    {
     "name": "stdout",
     "output_type": "stream",
     "text": [
      "Enter the single char1: C\n",
      "No Output\n"
     ]
    }
   ],
   "source": [
    "char1 = input(\"Enter the single char1: \")\n",
    "      \n",
    "if (len(char1) == 1):\n",
    "    ascii_value = ord(char1)\n",
    "    if (ascii_value % 2 == 0):\n",
    "          print(\"The ASCII value of\", char1, \"is even:\", ascii_value)\n",
    "    else:\n",
    "        print(\"No Output\")\n",
    "else:\n",
    "    print(\"Please enter only a single character.\")"
   ]
  },
  {
   "cell_type": "markdown",
   "id": "9aa1882e",
   "metadata": {},
   "source": [
    "9. Take Two character from user check if the ascii value both of character are odd then print the sum of ascii values of character.\n",
    "\n",
    "    input: char1 = 'A'\n",
    "           char2 = 'C'\n",
    "    output: 132\n",
    "    \n",
    "\n",
    "    input: char1 = 'a'\n",
    "           char2 = 'b'\n",
    "    output: No Output\n",
    "        "
   ]
  },
  {
   "cell_type": "code",
   "execution_count": 16,
   "id": "eb563431",
   "metadata": {},
   "outputs": [
    {
     "name": "stdout",
     "output_type": "stream",
     "text": [
      "Enter the char1: A\n",
      "Enter the char2: C\n",
      "The ASCII value of sum  is Odd: 132\n"
     ]
    }
   ],
   "source": [
    "char1 = input(\"Enter the char1: \")\n",
    "char2 = input(\"Enter the char2: \")\n",
    "\n",
    "ascii_value1 = ord(char1)\n",
    "ascii_value2 = ord(char2)\n",
    "\n",
    "if(len(char1) == 1)&(len(char2) == 1):\n",
    "    if (ascii_value1 % 2 != 0) and (ascii_value2 % 2 != 0):\n",
    "         print(\"The ASCII value of sum  is Odd:\",(ascii_value1+ascii_value2))\n",
    "    else:\n",
    "        print(\"No Output\")"
   ]
  },
  {
   "cell_type": "markdown",
   "id": "05708609",
   "metadata": {},
   "source": [
    "10. Take the number from user and  modulus with 8 if the reminder of the number is 3 then print reminder.\n",
    "\n",
    "input: num = 27\n",
    "output: 3\n",
    "    \n",
    "\n",
    "input: num = 10\n",
    "output: No Output\n",
    "        "
   ]
  },
  {
   "cell_type": "code",
   "execution_count": 28,
   "id": "b8a66fd4",
   "metadata": {},
   "outputs": [
    {
     "name": "stdout",
     "output_type": "stream",
     "text": [
      "Enter the num: 10\n",
      "No Output\n"
     ]
    }
   ],
   "source": [
    "num = int(input(\"Enter the num: \"))\n",
    "\n",
    "\n",
    "if(num % 8 == 3):\n",
    "    print(\"Remainder is:\", num % 8 )\n",
    "else:\n",
    "     print(\"No Output\")"
   ]
  },
  {
   "cell_type": "code",
   "execution_count": null,
   "id": "89fc1490",
   "metadata": {},
   "outputs": [],
   "source": []
  }
 ],
 "metadata": {
  "kernelspec": {
   "display_name": "Python 3 (ipykernel)",
   "language": "python",
   "name": "python3"
  },
  "language_info": {
   "codemirror_mode": {
    "name": "ipython",
    "version": 3
   },
   "file_extension": ".py",
   "mimetype": "text/x-python",
   "name": "python",
   "nbconvert_exporter": "python",
   "pygments_lexer": "ipython3",
   "version": "3.10.9"
  }
 },
 "nbformat": 4,
 "nbformat_minor": 5
}

{
 "cells": [
  {
   "cell_type": "raw",
   "id": "ee5d0c3a",
   "metadata": {},
   "source": [
    "1. program 1 : write a program to find a maximum between two numbers.\n",
    "input: 1 2\n",
    "output: 2 is max number between 1 & 2    "
   ]
  },
  {
   "cell_type": "code",
   "execution_count": 19,
   "id": "c5609814",
   "metadata": {},
   "outputs": [
    {
     "name": "stdout",
     "output_type": "stream",
     "text": [
      "Enter the num1:1\n",
      "Enter the num2:2\n",
      "2 is max number between num1 & num2\n"
     ]
    }
   ],
   "source": [
    "num1 = int(input(\"Enter the num1:\"))\n",
    "num2 = int(input(\"Enter the num2:\"))\n",
    "\n",
    "if(num2 > num1):\n",
    "    print(\"{} is max number between num1 & num2\".format(num2,num1))\n",
    "else:\n",
    "    print(\"{} is max number between num1 & num2\".format(num1,num2))\n",
    "    \n"
   ]
  },
  {
   "cell_type": "raw",
   "id": "8a2f69f7",
   "metadata": {},
   "source": [
    "2. program 2: write a program to check whether the number in Negative,Positive, or equal to zero.\n",
    "input : -2\n",
    "output:-2 is the Negative number"
   ]
  },
  {
   "cell_type": "code",
   "execution_count": 3,
   "id": "f8c3101f",
   "metadata": {},
   "outputs": [
    {
     "name": "stdout",
     "output_type": "stream",
     "text": [
      "Enter your number: -2\n",
      "-2 is the Negative number\n"
     ]
    }
   ],
   "source": [
    "num = int(input(\"Enter your number: \"))\n",
    "\n",
    "if(num > 0):\n",
    "    print(\"%d is the Positive number\"%num)\n",
    "elif(num<0):\n",
    "    print(\"%d is the Negative number\"%num)\n",
    "else:\n",
    "    print(\"equal to zero\")"
   ]
  },
  {
   "cell_type": "raw",
   "id": "7eecb319",
   "metadata": {},
   "source": [
    "3. program 3: write a program to find whether the number is Even or Odd \n",
    "input : 4\n",
    "output: 4 is an Even number!    "
   ]
  },
  {
   "cell_type": "code",
   "execution_count": 5,
   "id": "c7b9e53f",
   "metadata": {},
   "outputs": [
    {
     "name": "stdout",
     "output_type": "stream",
     "text": [
      "Enter the num1: 4\n",
      "4 is an Even number!\n"
     ]
    }
   ],
   "source": [
    "num1 = int(input(\"Enter the num1: \"))\n",
    "\n",
    "if(num1 % 2 == 0):\n",
    "    print(\"{} is an Even number!\".format(num1))\n",
    "else:\n",
    "    print(\"{} is an Odd number!\".format(num1))"
   ]
  },
  {
   "cell_type": "raw",
   "id": "16dc01b7",
   "metadata": {},
   "source": [
    "4. program 4:write a program to check whether the number is divisible by 5 or not.\n",
    "input : 55\n",
    "output:55 is divisible by 5\n",
    "    "
   ]
  },
  {
   "cell_type": "code",
   "execution_count": 7,
   "id": "2dbaffc0",
   "metadata": {},
   "outputs": [
    {
     "name": "stdout",
     "output_type": "stream",
     "text": [
      "Enter num:55\n",
      "55 is divisible by 5\n"
     ]
    }
   ],
   "source": [
    "num = int(input(\"Enter num:\"))\n",
    "\n",
    "if(num % 5 == 0):\n",
    "    print(\"%d is divisible by 5\" %num)\n",
    "else:\n",
    "    print(\"%d is not divisible by 5\" %num)"
   ]
  },
  {
   "cell_type": "raw",
   "id": "ac253ad5",
   "metadata": {},
   "source": [
    "5. program 5. write a program to take an integer ranging from 0 to 6 and print corresponding weekday(week starting from Monday)\n",
    "input: 2\n",
    "output: Wednesday    "
   ]
  },
  {
   "cell_type": "code",
   "execution_count": 30,
   "id": "313cdaf9",
   "metadata": {},
   "outputs": [
    {
     "name": "stdout",
     "output_type": "stream",
     "text": [
      "Enter the num:2\n",
      "Wednesday\n"
     ]
    }
   ],
   "source": [
    " # week = [\"Monday\",\"Tuesday\",\"Wednesday\",\"Thursday\",\"Friday\",\"Saturaday\",\"Sunday\"]\n",
    "num = int(input(\"Enter the num:\"))\n",
    "\n",
    "if (num == 0):\n",
    "    print(\"Monday\")\n",
    "elif(num == 1):\n",
    "    print(\"Tuesday\")\n",
    "elif(num == 2):\n",
    "    print(\"Wednesday\")\n",
    "elif(num == 3):\n",
    "    print(\"Thursday\")\n",
    "elif(num == 4):\n",
    "    print(\"Friday\")\n",
    "elif(num == 5): \n",
    "    print(\"Saturaday\")\n",
    "elif(num == 6):\n",
    "    print(\"Sunday\")\n",
    "else:\n",
    "    print(\"in valid day\")\n",
    "\n",
    "    "
   ]
  },
  {
   "cell_type": "raw",
   "id": "af3c8e81",
   "metadata": {},
   "source": [
    "6. program 6:write a program to check whether the Character is Alphabet or not.\n",
    "input:v\n",
    "output:v is an alphabet.\n",
    "    "
   ]
  },
  {
   "cell_type": "code",
   "execution_count": 2,
   "id": "20c9ecfa",
   "metadata": {},
   "outputs": [
    {
     "name": "stdout",
     "output_type": "stream",
     "text": [
      "Enter the character:v\n",
      "v is an alphabet\n"
     ]
    }
   ],
   "source": [
    "char = input(\"Enter the character:\")\n",
    "\n",
    "if(len(char)==1 and ('a'<= char <= 'z' or 'A' <= char <= 'Z')):\n",
    "    print(\"{} is an alphabet\".format(char))\n",
    "else:\n",
    "    print(\"{} is not an alphabet\".format(char))"
   ]
  },
  {
   "cell_type": "raw",
   "id": "74637934",
   "metadata": {},
   "source": [
    "# 7. program7: write a program to take a number of month and print the number of days in that month.\n",
    "input: 4\n",
    "output:April is a 30-day month.    "
   ]
  },
  {
   "cell_type": "code",
   "execution_count": 5,
   "id": "3cf45c90",
   "metadata": {},
   "outputs": [
    {
     "name": "stdout",
     "output_type": "stream",
     "text": [
      "enter the number of month:4\n",
      "April is a 30-day month\n"
     ]
    }
   ],
   "source": [
    "num = int(input(\"enter the number of month:\"))\n",
    "\n",
    "if(num == 1):\n",
    "    print(\"January is a 31-day month \")\n",
    "elif(num == 2):\n",
    "    print(\"February is a 28-day month\")\n",
    "elif(num == 3):\n",
    "    print(\"March is a 31-day month\")\n",
    "elif(num == 4):\n",
    "    print(\"April is a 30-day month\")\n",
    "elif(num == 5):\n",
    "    print(\"May is a 31-day month\")\n",
    "elif(num == 6):\n",
    "    print(\"June is a 30-day month\")\n",
    "elif(num == 7):\n",
    "    print(\"July is a 31-day month\")  \n",
    "elif(num == 8):\n",
    "    print(\"August is a 31-day month\")   \n",
    "elif(num == 9):\n",
    "    print(\"September is a 30-day month\")\n",
    "elif(num == 10):\n",
    "    print(\"October is a 31-day month\")\n",
    "elif(num == 11):\n",
    "    print(\"November is a 30-day month\")\n",
    "elif(num == 12):\n",
    "    print(\"December is a 31-day month\")    \n",
    "else:\n",
    "    print(\"In valid month\")\n",
    "    \n",
    "    \n",
    "  "
   ]
  },
  {
   "cell_type": "raw",
   "id": "b3ccab3b",
   "metadata": {},
   "source": [
    "8. program8: write a program to check whether the number is greater than 10 or not\n",
    "input : 12\n",
    "output:yes 12 is greater than 10\n",
    "input : 2\n",
    "output:no 2 is less than 10  "
   ]
  },
  {
   "cell_type": "code",
   "execution_count": 6,
   "id": "9e1b40ce",
   "metadata": {},
   "outputs": [
    {
     "name": "stdout",
     "output_type": "stream",
     "text": [
      "Enter the number: 12\n",
      "Yes, 12 is greater than 10\n"
     ]
    }
   ],
   "source": [
    "num = int(input(\"Enter the number: \"))\n",
    "\n",
    "if(num > 10):\n",
    "    print(\"Yes, {} is greater than 10\".format(num))\n",
    "else:\n",
    "     print(\"No, {} is less than 10\".format(num))"
   ]
  },
  {
   "cell_type": "raw",
   "id": "8972d50b",
   "metadata": {},
   "source": [
    "9 .write a program to check whether the input character is a vowel or consonant.\n",
    "input : 'a'\n",
    "output:vowal\n",
    "input: 'b' \n",
    "output:consonant    "
   ]
  },
  {
   "cell_type": "code",
   "execution_count": 29,
   "id": "ea6a6d32",
   "metadata": {},
   "outputs": [
    {
     "name": "stdout",
     "output_type": "stream",
     "text": [
      "Enter the character:a\n",
      "vowal\n"
     ]
    }
   ],
   "source": [
    "char = input(\"Enter the character:\")\n",
    "\n",
    "if(len(char)==1) and (char =='a' or char =='e'or char =='i' or char =='o' or char =='u'):\n",
    "    print(\"vowal\")\n",
    "elif(len(char)==1) and ((char<='a' or char<='z') and (char!='a' or char!='e'or char!='i' or char!='o' or char!='u')):\n",
    "    print(\"consonant\")    \n",
    "else:\n",
    "    print(\"special character\")"
   ]
  },
  {
   "cell_type": "raw",
   "id": "a3a4b861",
   "metadata": {},
   "source": [
    "10.program 10:WAP that determines whether a given input year is a leap year or no.\n"
   ]
  },
  {
   "cell_type": "code",
   "execution_count": 37,
   "id": "29da7019",
   "metadata": {},
   "outputs": [
    {
     "name": "stdout",
     "output_type": "stream",
     "text": [
      " enter the year: 2000\n",
      " 2000 is a leap year\n"
     ]
    }
   ],
   "source": [
    "year = int(input(\" enter the year: \"))\n",
    "\n",
    "if(year % 100 == 0) and ( year % 400 == 0):\n",
    "    print(\" {} is a leap year\".format(year))\n",
    "elif(year % 4 == 0) and (year % 100 != 0):\n",
    "    print(\"{} is a leap year\".format(year))    \n",
    "else:\n",
    "    print(\"{} is a not leap year\")"
   ]
  },
  {
   "cell_type": "code",
   "execution_count": null,
   "id": "4f7a4ffe",
   "metadata": {},
   "outputs": [],
   "source": []
  },
  {
   "cell_type": "code",
   "execution_count": null,
   "id": "76b7e59f",
   "metadata": {},
   "outputs": [],
   "source": []
  },
  {
   "cell_type": "code",
   "execution_count": null,
   "id": "692fddf1",
   "metadata": {},
   "outputs": [],
   "source": []
  },
  {
   "cell_type": "code",
   "execution_count": null,
   "id": "3151a21f",
   "metadata": {},
   "outputs": [],
   "source": []
  }
 ],
 "metadata": {
  "kernelspec": {
   "display_name": "Python 3 (ipykernel)",
   "language": "python",
   "name": "python3"
  },
  "language_info": {
   "codemirror_mode": {
    "name": "ipython",
    "version": 3
   },
   "file_extension": ".py",
   "mimetype": "text/x-python",
   "name": "python",
   "nbconvert_exporter": "python",
   "pygments_lexer": "ipython3",
   "version": "3.10.9"
  }
 },
 "nbformat": 4,
 "nbformat_minor": 5
}
